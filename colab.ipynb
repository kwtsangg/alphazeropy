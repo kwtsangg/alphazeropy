# example of training on colab

!git clone https://github.com/kwtsangg/alphazeropy
import os
os.chdir("alphazeropy/")
from google.colab import drive
drive.mount("/content/drive")
!cp  ../drive/'My Drive'/colab_notebook/reversi_training_model.tar.gz .
!tar zxvf reversi_training_model.tar.gz
!make train train_engine=tpu
!cp -r `ls -d $PWD/reversi_training_model/* | tail -n2 | head -n1` ../drive/'My Drive'/colab_notebook/ 
print("done")

