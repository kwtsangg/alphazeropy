# example of training on colab

!git clone https://github.com/kwtsangg/alphazeropy
import os
os.chdir("alphazeropy/")
%run train.py --game reversi --board-height 8 --board-width 8 --n-filter 32 --n-rollout 800 --save-path reversi_training_model --train-online --load-latest-model
